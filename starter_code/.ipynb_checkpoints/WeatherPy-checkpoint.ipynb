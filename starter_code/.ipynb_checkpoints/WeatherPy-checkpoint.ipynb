{
 "cells": [
  {
   "cell_type": "markdown",
   "metadata": {},
   "source": [
    "# WeatherPy\n",
    "----\n",
    "\n",
    "#### Note\n",
    "* Instructions have been included for each segment. You do not have to follow them exactly, but they are included to help you think through the steps."
   ]
  },
  {
   "cell_type": "code",
   "execution_count": 1,
   "metadata": {
    "scrolled": false
   },
   "outputs": [],
   "source": [
    "# Dependencies and Setup\n",
    "import matplotlib.pyplot as plt\n",
    "import pandas as pd\n",
    "import numpy as np\n",
    "import requests\n",
    "import time\n",
    "from scipy.stats import linregress\n",
    "# Import API key\n",
    "from api_keys import weather_api_key\n",
    "temp_units = \"imperial\"\n",
    "\n",
    "# Incorporated citipy to determine city based on latitude and longitude\n",
    "from citipy import citipy\n",
    "\n",
    "#ranges for latitudes and longitutdes.\n",
    "lat_range = (-90,90)\n",
    "lng_range = (-180,180)\n",
    "\n",
    "#URl\n",
    "url = f\"http://api.openweathermap.org/data/2.5/weather?appid={weather_api_key}&units={temp_units}&q=\""
   ]
  },
  {
   "cell_type": "markdown",
   "metadata": {},
   "source": [
    "## Generate Cities List"
   ]
  },
  {
   "cell_type": "code",
   "execution_count": 4,
   "metadata": {},
   "outputs": [
    {
     "data": {
      "text/plain": [
       "592"
      ]
     },
     "execution_count": 4,
     "metadata": {},
     "output_type": "execute_result"
    }
   ],
   "source": [
    "#List for holding latitudes and longitudes as well as cities.\n",
    "lats_lngs = []\n",
    "cities = []\n",
    "countries = []\n",
    "#Random latitude and longitude combos.\n",
    "lat = np.random.uniform(lat_range[0], lat_range[1], size=1500)\n",
    "lng = np.random.uniform(lng_range[0], lng_range[1], size=1500)\n",
    "lat_lngs = zip(lat,lng)\n",
    "\n",
    "#Identify the nearest city for each of these combinations \n",
    "for lat_lng in lat_lngs:\n",
    "    city = citipy.nearest_city(lat_lng[0], lat_lng[1]).city_name\n",
    "    country = citipy.nearest_city(lat_lng[0], lat_lng[1]).country_code\n",
    "#Make sure to grab only unique cities\n",
    "    if city not in cities:\n",
    "        cities.append(city)\n",
    "        countries.append(country.upper())\n",
    "len(cities)\n",
    "len(countries)"
   ]
  },
  {
   "cell_type": "markdown",
   "metadata": {},
   "source": [
    "### Perform API Calls\n",
    "* Perform a weather check on each city using a series of successive API calls.\n",
    "* Include a print log of each city as it'sbeing processed (with the city number and city name).\n"
   ]
  },
  {
   "cell_type": "code",
   "execution_count": 5,
   "metadata": {
    "scrolled": true
   },
   "outputs": [
    {
     "name": "stdout",
     "output_type": "stream",
     "text": [
      "processing Weather Data for Record Number 1 | Name Thompson\n",
      "processing Weather Data for Record Number 2 | Name Rikitea\n",
      "processing Weather Data for Record Number 3 | Name Kavaratti\n",
      "processing Weather Data for Record Number 4 | Name Pangnirtung\n",
      "processing Weather Data for Record Number 5 | Name Guiratinga\n",
      "processing Weather Data for Record Number 6 | Name Vaini\n",
      "processing Weather Data for Record Number 7 | Name Ushuaia\n",
      "processing Weather Data for Record Number 8 | Name Qaanaaq\n",
      "processing Weather Data for Record Number 9 | Name Faanui\n",
      "processing Weather Data for Record Number 10 | Name Arraial do Cabo\n",
      "processing Weather Data for Record Number 11 | Name Port Alfred\n",
      "processing Weather Data for Record Number 12 | Name Nikolskoye\n",
      "processing Weather Data for Record Number 13 | Name Los Llanos de Aridane\n",
      "processing Weather Data for Record Number 14 | Name Bambous Virieux\n",
      "processing Weather Data for Record Number 15 | Name Clyde River\n",
      "processing Weather Data for Record Number 16 | Name Cape Town\n",
      "processing Weather Data for Record Number 17 | Name Lagoa\n",
      "City not found...Skipping.....\n",
      "processing Weather Data for Record Number 18 | Name High Rock\n",
      "processing Weather Data for Record Number 19 | Name Kailua\n",
      "processing Weather Data for Record Number 20 | Name Yulara\n",
      "processing Weather Data for Record Number 21 | Name Bredasdorp\n",
      "City not found...Skipping.....\n",
      "processing Weather Data for Record Number 22 | Name Bluff\n",
      "processing Weather Data for Record Number 23 | Name Ambulu\n",
      "City not found...Skipping.....\n",
      "processing Weather Data for Record Number 24 | Name Busselton\n",
      "processing Weather Data for Record Number 25 | Name Kamenka\n",
      "processing Weather Data for Record Number 26 | Name Ostrovnoy\n",
      "processing Weather Data for Record Number 27 | Name Avarua\n",
      "processing Weather Data for Record Number 28 | Name Feijó\n",
      "City not found...Skipping.....\n",
      "City not found...Skipping.....\n",
      "processing Weather Data for Record Number 29 | Name Kontagora\n",
      "processing Weather Data for Record Number 30 | Name Marabá\n",
      "processing Weather Data for Record Number 31 | Name Longyearbyen\n",
      "City not found...Skipping.....\n",
      "processing Weather Data for Record Number 32 | Name Hilo\n",
      "processing Weather Data for Record Number 33 | Name Jiuquan\n",
      "processing Weather Data for Record Number 34 | Name Cabedelo\n",
      "processing Weather Data for Record Number 35 | Name Esperance\n",
      "processing Weather Data for Record Number 36 | Name Bocas del Toro\n",
      "processing Weather Data for Record Number 37 | Name Lorengau\n",
      "processing Weather Data for Record Number 38 | Name Xiaoyi\n",
      "processing Weather Data for Record Number 39 | Name Georgetown\n",
      "processing Weather Data for Record Number 40 | Name Kapaa\n",
      "processing Weather Data for Record Number 41 | Name Bontang\n",
      "City not found...Skipping.....\n",
      "processing Weather Data for Record Number 42 | Name Broome\n",
      "processing Weather Data for Record Number 43 | Name Bauchi\n",
      "processing Weather Data for Record Number 44 | Name Victoria\n",
      "processing Weather Data for Record Number 45 | Name Bethel\n",
      "processing Weather Data for Record Number 46 | Name Touros\n",
      "processing Weather Data for Record Number 47 | Name Albany\n",
      "processing Weather Data for Record Number 48 | Name Hobart\n",
      "processing Weather Data for Record Number 49 | Name Shahrud\n",
      "processing Weather Data for Record Number 50 | Name Bowen\n",
      "City not found...Skipping.....\n",
      "processing Weather Data for Record Number 51 | Name Lewisporte\n",
      "processing Weather Data for Record Number 52 | Name Pevek\n",
      "processing Weather Data for Record Number 53 | Name Shitanjing\n",
      "processing Weather Data for Record Number 54 | Name Taoudenni\n",
      "processing Weather Data for Record Number 55 | Name Saint-Philippe\n",
      "processing Weather Data for Record Number 56 | Name Castro\n",
      "City not found...Skipping.....\n",
      "processing Weather Data for Record Number 57 | Name Kalmunai\n",
      "processing Weather Data for Record Number 58 | Name Saint-Pierre\n",
      "processing Weather Data for Record Number 59 | Name Lavrentiya\n",
      "processing Weather Data for Record Number 60 | Name Omboué\n",
      "City not found...Skipping.....\n",
      "City not found...Skipping.....\n",
      "processing Weather Data for Record Number 61 | Name Torbay\n",
      "processing Weather Data for Record Number 62 | Name Barrow\n",
      "processing Weather Data for Record Number 63 | Name Smithers\n",
      "processing Weather Data for Record Number 64 | Name Port Elizabeth\n",
      "processing Weather Data for Record Number 65 | Name Cherskiy\n",
      "processing Weather Data for Record Number 66 | Name Adrar\n",
      "processing Weather Data for Record Number 67 | Name Tasiilaq\n",
      "processing Weather Data for Record Number 68 | Name San Miguel de Tucumán\n",
      "processing Weather Data for Record Number 69 | Name Tuktoyaktuk\n",
      "processing Weather Data for Record Number 70 | Name Vanavara\n",
      "processing Weather Data for Record Number 71 | Name Ancud\n",
      "processing Weather Data for Record Number 72 | Name San Miguel de Cozumel\n",
      "processing Weather Data for Record Number 73 | Name Puerto Ayora\n",
      "City not found...Skipping.....\n",
      "processing Weather Data for Record Number 74 | Name Tsimmerbude\n",
      "processing Weather Data for Record Number 75 | Name Broken Hill\n",
      "processing Weather Data for Record Number 76 | Name Chapais\n",
      "processing Weather Data for Record Number 77 | Name Hermanus\n",
      "processing Weather Data for Record Number 78 | Name Ōdachō-ōda\n",
      "processing Weather Data for Record Number 79 | Name Singojuruh\n",
      "processing Weather Data for Record Number 80 | Name Butaritari\n",
      "processing Weather Data for Record Number 81 | Name Seddon\n",
      "City not found...Skipping.....\n",
      "processing Weather Data for Record Number 82 | Name Petropavlovsk-Kamchatskiy\n",
      "processing Weather Data for Record Number 83 | Name Winton\n",
      "processing Weather Data for Record Number 84 | Name Olafsvik\n",
      "processing Weather Data for Record Number 85 | Name Pisco\n",
      "processing Weather Data for Record Number 86 | Name Umeå\n",
      "processing Weather Data for Record Number 87 | Name Nanortalik\n",
      "City not found...Skipping.....\n",
      "processing Weather Data for Record Number 88 | Name Ust'-Kulom\n",
      "processing Weather Data for Record Number 89 | Name Cidreira\n",
      "processing Weather Data for Record Number 90 | Name Vardø\n",
      "processing Weather Data for Record Number 91 | Name Saint-François\n",
      "processing Weather Data for Record Number 92 | Name Bathsheba\n",
      "processing Weather Data for Record Number 93 | Name Gomel\n",
      "City not found...Skipping.....\n",
      "processing Weather Data for Record Number 94 | Name Jamestown\n",
      "processing Weather Data for Record Number 95 | Name Orsk\n",
      "processing Weather Data for Record Number 96 | Name Norman Wells\n",
      "processing Weather Data for Record Number 97 | Name Grand Gaube\n",
      "processing Weather Data for Record Number 98 | Name Yellowknife\n",
      "processing Weather Data for Record Number 99 | Name Atuona\n",
      "processing Weather Data for Record Number 100 | Name Lompoc\n",
      "processing Weather Data for Record Number 101 | Name Hay River\n",
      "processing Weather Data for Record Number 102 | Name Quatre Cocos\n",
      "processing Weather Data for Record Number 103 | Name Ourinhos\n",
      "processing Weather Data for Record Number 104 | Name San Jeronimo\n",
      "processing Weather Data for Record Number 105 | Name Margate\n",
      "processing Weather Data for Record Number 106 | Name Bandarbeyla\n",
      "processing Weather Data for Record Number 107 | Name Saint George\n",
      "processing Weather Data for Record Number 108 | Name Leningradskiy\n",
      "processing Weather Data for Record Number 109 | Name East London\n",
      "processing Weather Data for Record Number 110 | Name Kaitangata\n",
      "processing Weather Data for Record Number 111 | Name Vallenar\n",
      "processing Weather Data for Record Number 112 | Name São Filipe\n",
      "processing Weather Data for Record Number 113 | Name Muroto-misakicho\n",
      "processing Weather Data for Record Number 114 | Name Alofi\n",
      "processing Weather Data for Record Number 115 | Name Griffith\n",
      "processing Weather Data for Record Number 116 | Name San Patricio\n",
      "processing Weather Data for Record Number 117 | Name La Libertad\n",
      "processing Weather Data for Record Number 118 | Name Hithadhoo\n",
      "processing Weather Data for Record Number 119 | Name Salym\n",
      "processing Weather Data for Record Number 120 | Name Vao\n",
      "processing Weather Data for Record Number 121 | Name Altamont\n",
      "City not found...Skipping.....\n",
      "processing Weather Data for Record Number 122 | Name Carnarvon\n",
      "processing Weather Data for Record Number 123 | Name Orapa\n",
      "processing Weather Data for Record Number 124 | Name Mastic Beach\n",
      "processing Weather Data for Record Number 125 | Name Punta Arenas\n",
      "City not found...Skipping.....\n"
     ]
    },
    {
     "name": "stdout",
     "output_type": "stream",
     "text": [
      "processing Weather Data for Record Number 126 | Name Uíge\n",
      "processing Weather Data for Record Number 127 | Name Izhevsk\n",
      "processing Weather Data for Record Number 128 | Name Mashhad\n",
      "processing Weather Data for Record Number 129 | Name Rioja\n",
      "processing Weather Data for Record Number 130 | Name Port Hedland\n",
      "City not found...Skipping.....\n",
      "processing Weather Data for Record Number 131 | Name Bengkulu\n",
      "processing Weather Data for Record Number 132 | Name Chiredzi\n",
      "processing Weather Data for Record Number 133 | Name San José\n",
      "processing Weather Data for Record Number 134 | Name Mar del Plata\n",
      "processing Weather Data for Record Number 135 | Name Chumikan\n",
      "City not found...Skipping.....\n",
      "processing Weather Data for Record Number 136 | Name Kanye\n",
      "processing Weather Data for Record Number 137 | Name Keetmanshoop\n",
      "processing Weather Data for Record Number 138 | Name Aswān\n",
      "processing Weather Data for Record Number 139 | Name Aksarka\n",
      "processing Weather Data for Record Number 140 | Name Neuquén\n",
      "processing Weather Data for Record Number 141 | Name Camaná\n",
      "City not found...Skipping.....\n",
      "processing Weather Data for Record Number 142 | Name Narsaq\n",
      "City not found...Skipping.....\n",
      "City not found...Skipping.....\n",
      "processing Weather Data for Record Number 143 | Name Coquimbo\n",
      "City not found...Skipping.....\n",
      "processing Weather Data for Record Number 144 | Name Lebu\n",
      "City not found...Skipping.....\n",
      "processing Weather Data for Record Number 145 | Name Souillac\n",
      "processing Weather Data for Record Number 146 | Name Ceres\n",
      "processing Weather Data for Record Number 147 | Name Palmer\n",
      "processing Weather Data for Record Number 148 | Name Capreol\n",
      "processing Weather Data for Record Number 149 | Name New Norfolk\n",
      "processing Weather Data for Record Number 150 | Name Lydenburg\n",
      "processing Weather Data for Record Number 151 | Name Natal\n",
      "City not found...Skipping.....\n",
      "processing Weather Data for Record Number 152 | Name Petropavlivka\n",
      "City not found...Skipping.....\n",
      "processing Weather Data for Record Number 153 | Name Fremont\n",
      "processing Weather Data for Record Number 154 | Name Kirkenes\n",
      "processing Weather Data for Record Number 155 | Name Tonekābon\n",
      "processing Weather Data for Record Number 156 | Name Caravelas\n",
      "processing Weather Data for Record Number 157 | Name Saskylakh\n",
      "processing Weather Data for Record Number 158 | Name Baie-Comeau\n",
      "processing Weather Data for Record Number 159 | Name Boké\n",
      "processing Weather Data for Record Number 160 | Name Fort Frances\n",
      "processing Weather Data for Record Number 161 | Name Nanning\n",
      "processing Weather Data for Record Number 162 | Name Chui\n",
      "City not found...Skipping.....\n",
      "processing Weather Data for Record Number 163 | Name Barra do Garças\n",
      "processing Weather Data for Record Number 164 | Name Pemangkat\n",
      "processing Weather Data for Record Number 165 | Name Novo Aripuanã\n",
      "processing Weather Data for Record Number 166 | Name Sassandra\n",
      "City not found...Skipping.....\n",
      "City not found...Skipping.....\n",
      "processing Weather Data for Record Number 167 | Name Omsukchan\n",
      "processing Weather Data for Record Number 168 | Name Mount Gambier\n",
      "processing Weather Data for Record Number 169 | Name Cockburn Town\n",
      "processing Weather Data for Record Number 170 | Name Dingle\n",
      "processing Weather Data for Record Number 171 | Name Podgornoye\n",
      "processing Weather Data for Record Number 172 | Name Rawson\n",
      "processing Weather Data for Record Number 173 | Name Itigi\n",
      "processing Weather Data for Record Number 174 | Name Alugan\n",
      "City not found...Skipping.....\n",
      "processing Weather Data for Record Number 175 | Name Lüderitz\n",
      "processing Weather Data for Record Number 176 | Name Ojinaga\n",
      "processing Weather Data for Record Number 177 | Name Provideniya\n",
      "processing Weather Data for Record Number 178 | Name Sikasso\n",
      "processing Weather Data for Record Number 179 | Name Vila Velha\n",
      "processing Weather Data for Record Number 180 | Name Walvis Bay\n",
      "processing Weather Data for Record Number 181 | Name Sistranda\n",
      "processing Weather Data for Record Number 182 | Name Flinders\n",
      "City not found...Skipping.....\n",
      "processing Weather Data for Record Number 183 | Name Maniitsoq\n",
      "City not found...Skipping.....\n",
      "processing Weather Data for Record Number 184 | Name Epe\n",
      "processing Weather Data for Record Number 185 | Name Port-Cartier\n",
      "processing Weather Data for Record Number 186 | Name Khovu-Aksy\n",
      "City not found...Skipping.....\n",
      "processing Weather Data for Record Number 187 | Name Bone\n",
      "processing Weather Data for Record Number 188 | Name Takoradze\n",
      "processing Weather Data for Record Number 189 | Name Ambon City\n",
      "processing Weather Data for Record Number 190 | Name Comodoro Rivadavia\n",
      "processing Weather Data for Record Number 191 | Name Matlock\n",
      "processing Weather Data for Record Number 192 | Name Port Lincoln\n",
      "processing Weather Data for Record Number 193 | Name Kavieng\n",
      "processing Weather Data for Record Number 194 | Name Tuatapere\n",
      "processing Weather Data for Record Number 195 | Name Banda Aceh\n",
      "processing Weather Data for Record Number 196 | Name Kindu\n",
      "processing Weather Data for Record Number 197 | Name Skjervøy\n",
      "processing Weather Data for Record Number 198 | Name São João da Barra\n",
      "City not found...Skipping.....\n",
      "processing Weather Data for Record Number 199 | Name Tazovsky\n",
      "processing Weather Data for Record Number 200 | Name Tiznit Province\n",
      "processing Weather Data for Record Number 201 | Name Tūkrah\n",
      "processing Weather Data for Record Number 202 | Name Nago\n",
      "processing Weather Data for Record Number 203 | Name Jinchang\n",
      "processing Weather Data for Record Number 204 | Name Itarema\n",
      "processing Weather Data for Record Number 205 | Name Rio Grande\n",
      "processing Weather Data for Record Number 206 | Name Trairi\n",
      "processing Weather Data for Record Number 207 | Name Sitka\n",
      "City not found...Skipping.....\n",
      "City not found...Skipping.....\n",
      "processing Weather Data for Record Number 208 | Name Sur\n",
      "processing Weather Data for Record Number 209 | Name Port-Gentil\n",
      "processing Weather Data for Record Number 210 | Name Southbridge\n",
      "processing Weather Data for Record Number 211 | Name Mazatán\n",
      "processing Weather Data for Record Number 212 | Name Saint Paul Harbor\n",
      "City not found...Skipping.....\n",
      "City not found...Skipping.....\n",
      "processing Weather Data for Record Number 213 | Name Urengoy\n",
      "processing Weather Data for Record Number 214 | Name Biak\n",
      "City not found...Skipping.....\n",
      "processing Weather Data for Record Number 215 | Name Tete\n",
      "processing Weather Data for Record Number 216 | Name Husavik\n",
      "City not found...Skipping.....\n",
      "processing Weather Data for Record Number 217 | Name Taft\n",
      "processing Weather Data for Record Number 218 | Name Geraldton\n",
      "City not found...Skipping.....\n",
      "processing Weather Data for Record Number 219 | Name Mandera\n",
      "processing Weather Data for Record Number 220 | Name Shimoda\n",
      "processing Weather Data for Record Number 221 | Name Pavlodar\n",
      "processing Weather Data for Record Number 222 | Name Te Anau\n",
      "processing Weather Data for Record Number 223 | Name Mizdah\n",
      "processing Weather Data for Record Number 224 | Name Forquilhinha\n",
      "processing Weather Data for Record Number 225 | Name Cassilândia\n",
      "processing Weather Data for Record Number 226 | Name Bulawayo\n",
      "processing Weather Data for Record Number 227 | Name Namatanai\n",
      "processing Weather Data for Record Number 228 | Name Jasper\n",
      "processing Weather Data for Record Number 229 | Name Coahuayana Viejo\n",
      "processing Weather Data for Record Number 230 | Name Várzea da Palma\n",
      "processing Weather Data for Record Number 231 | Name Sultānpur\n",
      "processing Weather Data for Record Number 232 | Name Sargatskoye\n",
      "processing Weather Data for Record Number 233 | Name Pinawa\n",
      "processing Weather Data for Record Number 234 | Name Mahébourg\n",
      "processing Weather Data for Record Number 235 | Name Berlevåg\n",
      "processing Weather Data for Record Number 236 | Name Hofn\n",
      "processing Weather Data for Record Number 237 | Name Kanata\n",
      "processing Weather Data for Record Number 238 | Name Strezhevoy\n",
      "processing Weather Data for Record Number 239 | Name Sinnamary\n",
      "processing Weather Data for Record Number 240 | Name Shelburne\n",
      "processing Weather Data for Record Number 241 | Name Reconquista\n",
      "processing Weather Data for Record Number 242 | Name Central Point\n",
      "processing Weather Data for Record Number 243 | Name Gurupá\n",
      "processing Weather Data for Record Number 244 | Name Alexandroupoli\n",
      "processing Weather Data for Record Number 245 | Name Mâncio Lima\n",
      "processing Weather Data for Record Number 246 | Name Marrakesh\n"
     ]
    },
    {
     "name": "stdout",
     "output_type": "stream",
     "text": [
      "processing Weather Data for Record Number 247 | Name Obreja\n",
      "processing Weather Data for Record Number 248 | Name Bonavista\n",
      "processing Weather Data for Record Number 249 | Name Mayor Pablo Lagerenza\n",
      "processing Weather Data for Record Number 250 | Name Yamada\n",
      "City not found...Skipping.....\n",
      "processing Weather Data for Record Number 251 | Name Thākurganj\n",
      "processing Weather Data for Record Number 252 | Name Henties Bay\n",
      "processing Weather Data for Record Number 253 | Name Khatanga\n",
      "processing Weather Data for Record Number 254 | Name Paamiut\n",
      "processing Weather Data for Record Number 255 | Name Kanniyākumāri\n",
      "processing Weather Data for Record Number 256 | Name Fare\n",
      "processing Weather Data for Record Number 257 | Name Santa María del Oro\n",
      "processing Weather Data for Record Number 258 | Name Cabo San Lucas\n",
      "City not found...Skipping.....\n",
      "processing Weather Data for Record Number 259 | Name Gimli\n",
      "processing Weather Data for Record Number 260 | Name Isangel\n",
      "processing Weather Data for Record Number 261 | Name Tiarei\n",
      "processing Weather Data for Record Number 262 | Name Mosquera\n",
      "processing Weather Data for Record Number 263 | Name Fortuna\n",
      "processing Weather Data for Record Number 264 | Name Paoua\n",
      "processing Weather Data for Record Number 265 | Name Pochutla\n",
      "processing Weather Data for Record Number 266 | Name Gweta\n",
      "processing Weather Data for Record Number 267 | Name Susanville\n",
      "City not found...Skipping.....\n",
      "processing Weather Data for Record Number 268 | Name Severo-Kuril'sk\n",
      "processing Weather Data for Record Number 269 | Name Ambilobe\n",
      "processing Weather Data for Record Number 270 | Name Port Hardy\n",
      "processing Weather Data for Record Number 271 | Name Prince Rupert\n",
      "City not found...Skipping.....\n",
      "processing Weather Data for Record Number 272 | Name Puerto Escondido\n",
      "processing Weather Data for Record Number 273 | Name Atikokan\n",
      "processing Weather Data for Record Number 274 | Name Muhos\n",
      "processing Weather Data for Record Number 275 | Name Merowe\n",
      "processing Weather Data for Record Number 276 | Name Wufeng\n",
      "processing Weather Data for Record Number 277 | Name Muskegon\n",
      "City not found...Skipping.....\n",
      "processing Weather Data for Record Number 278 | Name San Cristobal\n",
      "processing Weather Data for Record Number 279 | Name Kamaishi\n",
      "processing Weather Data for Record Number 280 | Name Coyhaique\n",
      "processing Weather Data for Record Number 281 | Name Yuzhno-Kurilsk\n",
      "processing Weather Data for Record Number 282 | Name Río Gallegos\n",
      "City not found...Skipping.....\n",
      "processing Weather Data for Record Number 283 | Name Samarai\n",
      "City not found...Skipping.....\n",
      "processing Weather Data for Record Number 284 | Name Salalah\n",
      "processing Weather Data for Record Number 285 | Name Carutapera\n",
      "processing Weather Data for Record Number 286 | Name Filadelfia\n",
      "processing Weather Data for Record Number 287 | Name Salto\n",
      "processing Weather Data for Record Number 288 | Name Cayenne\n",
      "City not found...Skipping.....\n",
      "processing Weather Data for Record Number 289 | Name Upernavik\n",
      "processing Weather Data for Record Number 290 | Name Imbituba\n",
      "processing Weather Data for Record Number 291 | Name Grindavik\n",
      "processing Weather Data for Record Number 292 | Name San Vicente\n",
      "processing Weather Data for Record Number 293 | Name Pahrump\n",
      "processing Weather Data for Record Number 294 | Name Palm Coast\n",
      "City not found...Skipping.....\n",
      "processing Weather Data for Record Number 295 | Name Tres Arroyos\n",
      "City not found...Skipping.....\n",
      "processing Weather Data for Record Number 296 | Name Sicamous\n",
      "processing Weather Data for Record Number 297 | Name Klaksvík\n",
      "processing Weather Data for Record Number 298 | Name Ilulissat\n",
      "processing Weather Data for Record Number 299 | Name Madang\n",
      "processing Weather Data for Record Number 300 | Name Teknāf\n",
      "processing Weather Data for Record Number 301 | Name Nelson Bay\n",
      "processing Weather Data for Record Number 302 | Name Sarkand\n",
      "processing Weather Data for Record Number 303 | Name Yilan\n",
      "processing Weather Data for Record Number 304 | Name San Fernando del Valle de Catamarca\n",
      "processing Weather Data for Record Number 305 | Name Tombouctou\n",
      "City not found...Skipping.....\n",
      "processing Weather Data for Record Number 306 | Name Chokurdakh\n",
      "processing Weather Data for Record Number 307 | Name Kastamonu Province\n",
      "processing Weather Data for Record Number 308 | Name Saldanha\n",
      "processing Weather Data for Record Number 309 | Name Kahului\n",
      "processing Weather Data for Record Number 310 | Name Yar-Sale\n",
      "processing Weather Data for Record Number 311 | Name Melilla\n",
      "processing Weather Data for Record Number 312 | Name Port Blair\n",
      "processing Weather Data for Record Number 313 | Name Chunskiy\n",
      "processing Weather Data for Record Number 314 | Name Dikson\n",
      "processing Weather Data for Record Number 315 | Name Sovetskiy\n",
      "processing Weather Data for Record Number 316 | Name Vanimo\n",
      "processing Weather Data for Record Number 317 | Name Adwa\n",
      "processing Weather Data for Record Number 318 | Name Ponta do Sol\n",
      "processing Weather Data for Record Number 319 | Name Chirongui\n",
      "processing Weather Data for Record Number 320 | Name Zhuhai\n",
      "processing Weather Data for Record Number 321 | Name Miles City\n",
      "processing Weather Data for Record Number 322 | Name Quime\n",
      "processing Weather Data for Record Number 323 | Name Adet\n",
      "processing Weather Data for Record Number 324 | Name Jalu\n",
      "processing Weather Data for Record Number 325 | Name Sretensk\n",
      "processing Weather Data for Record Number 326 | Name Belaya Gora\n",
      "City not found...Skipping.....\n",
      "processing Weather Data for Record Number 327 | Name George\n",
      "processing Weather Data for Record Number 328 | Name Port Macquarie\n",
      "processing Weather Data for Record Number 329 | Name Wanaka\n",
      "processing Weather Data for Record Number 330 | Name Tezu\n",
      "processing Weather Data for Record Number 331 | Name Hervey Bay\n",
      "processing Weather Data for Record Number 332 | Name Schotten\n",
      "processing Weather Data for Record Number 333 | Name Deniliquin\n",
      "processing Weather Data for Record Number 334 | Name Olavarría\n",
      "processing Weather Data for Record Number 335 | Name Campbell River\n",
      "processing Weather Data for Record Number 336 | Name Sechura\n",
      "City not found...Skipping.....\n",
      "processing Weather Data for Record Number 337 | Name Keti Bandar\n",
      "City not found...Skipping.....\n",
      "processing Weather Data for Record Number 338 | Name Bilibino\n",
      "processing Weather Data for Record Number 339 | Name Katsuura\n",
      "processing Weather Data for Record Number 340 | Name Kruisfontein\n",
      "processing Weather Data for Record Number 341 | Name Hasaki\n",
      "processing Weather Data for Record Number 342 | Name Poum\n",
      "processing Weather Data for Record Number 343 | Name Khovd\n",
      "processing Weather Data for Record Number 344 | Name Zhangaözen\n",
      "processing Weather Data for Record Number 345 | Name San Buenaventura\n",
      "processing Weather Data for Record Number 346 | Name Zambezi\n",
      "processing Weather Data for Record Number 347 | Name Hakkâri Province\n",
      "processing Weather Data for Record Number 348 | Name Matamoros\n",
      "processing Weather Data for Record Number 349 | Name Tiksi\n",
      "processing Weather Data for Record Number 350 | Name Tallahassee\n",
      "processing Weather Data for Record Number 351 | Name Clarksdale\n",
      "processing Weather Data for Record Number 352 | Name Dunedin\n",
      "processing Weather Data for Record Number 353 | Name Nouadhibou\n",
      "processing Weather Data for Record Number 354 | Name Capitán Bado\n",
      "processing Weather Data for Record Number 355 | Name Barsovo\n",
      "processing Weather Data for Record Number 356 | Name Laguna\n",
      "processing Weather Data for Record Number 357 | Name Ngunguru\n",
      "processing Weather Data for Record Number 358 | Name Kysyl-Syr\n",
      "processing Weather Data for Record Number 359 | Name Safi\n",
      "processing Weather Data for Record Number 360 | Name Parakou\n",
      "processing Weather Data for Record Number 361 | Name Singaraja\n",
      "processing Weather Data for Record Number 362 | Name Tomatlán\n",
      "processing Weather Data for Record Number 363 | Name Meadville\n",
      "processing Weather Data for Record Number 364 | Name Aripuanã\n",
      "processing Weather Data for Record Number 365 | Name Sungai Raya\n",
      "City not found...Skipping.....\n",
      "processing Weather Data for Record Number 366 | Name Turka\n",
      "City not found...Skipping.....\n",
      "City not found...Skipping.....\n",
      "processing Weather Data for Record Number 367 | Name Saint-Paul\n",
      "processing Weather Data for Record Number 368 | Name Riverton\n"
     ]
    },
    {
     "name": "stdout",
     "output_type": "stream",
     "text": [
      "processing Weather Data for Record Number 369 | Name Séguéla\n",
      "processing Weather Data for Record Number 370 | Name Banepā\n",
      "processing Weather Data for Record Number 371 | Name Ribeira Grande\n",
      "processing Weather Data for Record Number 372 | Name Windhoek\n",
      "processing Weather Data for Record Number 373 | Name Murgab\n",
      "processing Weather Data for Record Number 374 | Name San Policarpo\n",
      "processing Weather Data for Record Number 375 | Name Tautira\n",
      "processing Weather Data for Record Number 376 | Name Hirara\n",
      "processing Weather Data for Record Number 377 | Name Inverell\n",
      "processing Weather Data for Record Number 378 | Name Mumford\n",
      "processing Weather Data for Record Number 379 | Name Puerto Madryn\n",
      "processing Weather Data for Record Number 380 | Name Rocky Mountain House\n",
      "processing Weather Data for Record Number 381 | Name Moengo\n",
      "processing Weather Data for Record Number 382 | Name Menongue\n",
      "processing Weather Data for Record Number 383 | Name Mantua\n",
      "processing Weather Data for Record Number 384 | Name Hamilton\n",
      "processing Weather Data for Record Number 385 | Name San Andrés\n",
      "processing Weather Data for Record Number 386 | Name Lucapa\n",
      "processing Weather Data for Record Number 387 | Name Sucúa\n",
      "processing Weather Data for Record Number 388 | Name Zhigansk\n",
      "City not found...Skipping.....\n",
      "processing Weather Data for Record Number 389 | Name Harper\n",
      "processing Weather Data for Record Number 390 | Name Okhotsk\n",
      "processing Weather Data for Record Number 391 | Name Saint-Augustin\n",
      "processing Weather Data for Record Number 392 | Name Karratha\n",
      "City not found...Skipping.....\n",
      "processing Weather Data for Record Number 393 | Name Ishigaki\n",
      "processing Weather Data for Record Number 394 | Name Banjar\n",
      "processing Weather Data for Record Number 395 | Name Jampur\n",
      "processing Weather Data for Record Number 396 | Name Oxelösund\n",
      "processing Weather Data for Record Number 397 | Name Mossamedes\n",
      "processing Weather Data for Record Number 398 | Name Diffa\n",
      "processing Weather Data for Record Number 399 | Name Carballo\n",
      "processing Weather Data for Record Number 400 | Name La Rioja\n",
      "processing Weather Data for Record Number 401 | Name Cheney\n",
      "processing Weather Data for Record Number 402 | Name Nishihara\n",
      "processing Weather Data for Record Number 403 | Name Borova\n",
      "processing Weather Data for Record Number 404 | Name Ballitoville\n",
      "processing Weather Data for Record Number 405 | Name Macas\n",
      "processing Weather Data for Record Number 406 | Name Chapaevsk\n",
      "processing Weather Data for Record Number 407 | Name Ouadda\n",
      "City not found...Skipping.....\n",
      "processing Weather Data for Record Number 408 | Name Villamontes\n",
      "processing Weather Data for Record Number 409 | Name Sola\n",
      "City not found...Skipping.....\n",
      "processing Weather Data for Record Number 410 | Name Ano Mera\n",
      "processing Weather Data for Record Number 411 | Name Tarija\n",
      "processing Weather Data for Record Number 412 | Name Novopokrovka\n",
      "processing Weather Data for Record Number 413 | Name Aksu\n",
      "processing Weather Data for Record Number 414 | Name Ahipara\n",
      "processing Weather Data for Record Number 415 | Name Catuday\n",
      "processing Weather Data for Record Number 416 | Name Greve Strand\n",
      "processing Weather Data for Record Number 417 | Name Kununurra\n",
      "processing Weather Data for Record Number 418 | Name Necochea\n",
      "processing Weather Data for Record Number 419 | Name Ola\n",
      "processing Weather Data for Record Number 420 | Name Yokadouma\n",
      "processing Weather Data for Record Number 421 | Name Angoram\n",
      "City not found...Skipping.....\n",
      "City not found...Skipping.....\n",
      "processing Weather Data for Record Number 422 | Name Orlik\n",
      "processing Weather Data for Record Number 423 | Name Correntina\n",
      "processing Weather Data for Record Number 424 | Name Nishifukuma\n",
      "City not found...Skipping.....\n",
      "processing Weather Data for Record Number 425 | Name Colares\n",
      "processing Weather Data for Record Number 426 | Name Sangar\n",
      "processing Weather Data for Record Number 427 | Name Huazhou\n",
      "processing Weather Data for Record Number 428 | Name Mawlaik\n",
      "processing Weather Data for Record Number 429 | Name José Bonifácio\n",
      "processing Weather Data for Record Number 430 | Name Florø\n",
      "processing Weather Data for Record Number 431 | Name Åmli\n",
      "City not found...Skipping.....\n",
      "processing Weather Data for Record Number 432 | Name Komsomol'skiy\n",
      "processing Weather Data for Record Number 433 | Name Muscat\n",
      "processing Weather Data for Record Number 434 | Name Miraflores\n",
      "processing Weather Data for Record Number 435 | Name Howard Springs\n",
      "processing Weather Data for Record Number 436 | Name Zyryanka\n",
      "processing Weather Data for Record Number 437 | Name Agarak\n",
      "processing Weather Data for Record Number 438 | Name Jiblah\n",
      "processing Weather Data for Record Number 439 | Name Matara\n",
      "processing Weather Data for Record Number 440 | Name Riachão das Neves\n",
      "processing Weather Data for Record Number 441 | Name Volchansk\n",
      "processing Weather Data for Record Number 442 | Name Presidencia Roque Sáenz Peña\n",
      "processing Weather Data for Record Number 443 | Name Pāsighāt\n",
      "City not found...Skipping.....\n",
      "processing Weather Data for Record Number 444 | Name Lakatoro\n",
      "processing Weather Data for Record Number 445 | Name Bereket\n",
      "processing Weather Data for Record Number 446 | Name Farafangana\n",
      "processing Weather Data for Record Number 447 | Name Sale\n",
      "processing Weather Data for Record Number 448 | Name Mehamn\n",
      "processing Weather Data for Record Number 449 | Name Saint-Joseph\n",
      "processing Weather Data for Record Number 450 | Name Northam\n",
      "processing Weather Data for Record Number 451 | Name Nālūt\n",
      "processing Weather Data for Record Number 452 | Name Lahaina\n",
      "processing Weather Data for Record Number 453 | Name Temir\n",
      "processing Weather Data for Record Number 454 | Name Dosso\n",
      "processing Weather Data for Record Number 455 | Name Dapaong\n",
      "processing Weather Data for Record Number 456 | Name Owen Sound\n",
      "processing Weather Data for Record Number 457 | Name Stornoway\n",
      "processing Weather Data for Record Number 458 | Name Gaziantep\n",
      "processing Weather Data for Record Number 459 | Name Naze\n",
      "processing Weather Data for Record Number 460 | Name Numan\n",
      "City not found...Skipping.....\n",
      "processing Weather Data for Record Number 461 | Name Nome\n",
      "processing Weather Data for Record Number 462 | Name Tilichiki\n",
      "processing Weather Data for Record Number 463 | Name Butte\n",
      "processing Weather Data for Record Number 464 | Name Lao Cai\n",
      "processing Weather Data for Record Number 465 | Name Amberley\n",
      "processing Weather Data for Record Number 466 | Name Chino Valley\n",
      "processing Weather Data for Record Number 467 | Name Bilma\n",
      "processing Weather Data for Record Number 468 | Name Fairbanks\n",
      "processing Weather Data for Record Number 469 | Name Soyo\n",
      "processing Weather Data for Record Number 470 | Name Tahe\n",
      "processing Weather Data for Record Number 471 | Name Cochrane\n",
      "processing Weather Data for Record Number 472 | Name Mehrān\n",
      "City not found...Skipping.....\n",
      "processing Weather Data for Record Number 473 | Name Korla\n",
      "processing Weather Data for Record Number 474 | Name Iqaluit\n",
      "processing Weather Data for Record Number 475 | Name Tegul'det\n",
      "processing Weather Data for Record Number 476 | Name Skegness\n",
      "processing Weather Data for Record Number 477 | Name Mount Isa\n",
      "processing Weather Data for Record Number 478 | Name Bitung\n",
      "processing Weather Data for Record Number 479 | Name Akdağmadeni\n",
      "processing Weather Data for Record Number 480 | Name Nyagan\n",
      "processing Weather Data for Record Number 481 | Name Vysotsk\n",
      "City not found...Skipping.....\n",
      "processing Weather Data for Record Number 482 | Name Batemans Bay\n",
      "processing Weather Data for Record Number 483 | Name Luanda\n",
      "processing Weather Data for Record Number 484 | Name Grand-Lahou\n",
      "processing Weather Data for Record Number 485 | Name Seoul\n",
      "processing Weather Data for Record Number 486 | Name Nhulunbuy\n",
      "processing Weather Data for Record Number 487 | Name Guerrero Negro\n",
      "processing Weather Data for Record Number 488 | Name Sémbé\n",
      "processing Weather Data for Record Number 489 | Name Torrington\n",
      "processing Weather Data for Record Number 490 | Name Palmas\n",
      "processing Weather Data for Record Number 491 | Name Wanning\n",
      "processing Weather Data for Record Number 492 | Name Totness\n",
      "processing Weather Data for Record Number 493 | Name Ajdabiya\n",
      "processing Weather Data for Record Number 494 | Name Fujin\n",
      "processing Weather Data for Record Number 495 | Name Lavumisa\n"
     ]
    },
    {
     "name": "stdout",
     "output_type": "stream",
     "text": [
      "processing Weather Data for Record Number 496 | Name Castellammare del Golfo\n",
      "processing Weather Data for Record Number 497 | Name Smirnykh\n",
      "processing Weather Data for Record Number 498 | Name Praia da Vitória\n",
      "processing Weather Data for Record Number 499 | Name Rizhao\n",
      "processing Weather Data for Record Number 500 | Name Santana\n",
      "processing Weather Data for Record Number 501 | Name Jianning\n",
      "processing Weather Data for Record Number 502 | Name Morros\n",
      "processing Weather Data for Record Number 503 | Name Vestmannaeyjar\n",
      "City not found...Skipping.....\n",
      "processing Weather Data for Record Number 504 | Name Safakulevo\n",
      "processing Weather Data for Record Number 505 | Name Isiro\n",
      "processing Weather Data for Record Number 506 | Name Iseyin\n",
      "processing Weather Data for Record Number 507 | Name Tanete\n",
      "processing Weather Data for Record Number 508 | Name Cortez\n",
      "processing Weather Data for Record Number 509 | Name West Odessa\n",
      "processing Weather Data for Record Number 510 | Name Terme\n",
      "processing Weather Data for Record Number 511 | Name Kismayo\n",
      "processing Weather Data for Record Number 512 | Name Inuvik\n",
      "processing Weather Data for Record Number 513 | Name Andenes\n",
      "processing Weather Data for Record Number 514 | Name Svetlaya\n",
      "City not found...Skipping.....\n",
      "City not found...Skipping.....\n",
      "City not found...Skipping.....\n",
      "processing Weather Data for Record Number 515 | Name Nador\n",
      "processing Weather Data for Record Number 516 | Name Grand-Santi\n",
      "processing Weather Data for Record Number 517 | Name Kidal\n",
      "processing Weather Data for Record Number 518 | Name Umba\n"
     ]
    }
   ],
   "source": [
    "record_number = 1\n",
    "weather_df = pd.DataFrame({'City': cities, \n",
    "                           'Country': countries, \n",
    "                           'Cloudiness':\"\",\n",
    "                           'Date':\"\",\n",
    "                           'Humidity':\"\",\n",
    "                           \"Lat\":\"\",\n",
    "                           \"Lng\":\"\",\n",
    "                           \"Max Temp\":\"\",\n",
    "                           \"Windspeed\":\"\"})\n",
    "weather_df.head()\n",
    "\n",
    "for index, row in weather_df.iterrows():\n",
    "    query_url = url + row['City']+\",\"+ row['Country']\n",
    "    \n",
    "    response = requests.get(query_url).json()\n",
    "    \n",
    "    try:\n",
    "        print(f\"Processing Weather Data for Record Number {record_number} | Name {response['name']}\")\n",
    "        \n",
    "        #Input relevant information into the DataFrame\n",
    "        weather_df.loc[index, 'Cloudiness'] = response['clouds']['all']\n",
    "        weather_df.loc[index, 'Date'] = response['dt']\n",
    "        weather_df.loc[index, 'Humidity'] = response['main']['humidity']\n",
    "        weather_df.loc[index, 'Lat'] = response['coord']['lat']\n",
    "        weather_df.loc[index, 'Lng'] = response['coord']['lon']\n",
    "        weather_df.loc[index, 'Max Temp'] = response['main']['temp_max']\n",
    "        weather_df.loc[index, 'Windspeed'] = response['wind']['speed']\n",
    "        \n",
    "        #Increase the Record Number\n",
    "        record_number +=1\n",
    "    except (KeyError, IndexError):\n",
    "        print(\"City not found...Skipping.....\")\n",
    "    "
   ]
  },
  {
   "cell_type": "code",
   "execution_count": 6,
   "metadata": {},
   "outputs": [
    {
     "data": {
      "text/html": [
       "<div>\n",
       "<style scoped>\n",
       "    .dataframe tbody tr th:only-of-type {\n",
       "        vertical-align: middle;\n",
       "    }\n",
       "\n",
       "    .dataframe tbody tr th {\n",
       "        vertical-align: top;\n",
       "    }\n",
       "\n",
       "    .dataframe thead th {\n",
       "        text-align: right;\n",
       "    }\n",
       "</style>\n",
       "<table border=\"1\" class=\"dataframe\">\n",
       "  <thead>\n",
       "    <tr style=\"text-align: right;\">\n",
       "      <th></th>\n",
       "      <th>City</th>\n",
       "      <th>Country</th>\n",
       "      <th>Cloudiness</th>\n",
       "      <th>Date</th>\n",
       "      <th>Humidity</th>\n",
       "      <th>Lat</th>\n",
       "      <th>Lng</th>\n",
       "      <th>Max Temp</th>\n",
       "      <th>Windspeed</th>\n",
       "    </tr>\n",
       "  </thead>\n",
       "  <tbody>\n",
       "    <tr>\n",
       "      <th>0</th>\n",
       "      <td>thompson</td>\n",
       "      <td>CA</td>\n",
       "      <td>90</td>\n",
       "      <td>1619893274</td>\n",
       "      <td>86.0</td>\n",
       "      <td>55.7435</td>\n",
       "      <td>-97.8558</td>\n",
       "      <td>21.2</td>\n",
       "      <td>9.22</td>\n",
       "    </tr>\n",
       "    <tr>\n",
       "      <th>1</th>\n",
       "      <td>rikitea</td>\n",
       "      <td>PF</td>\n",
       "      <td>88</td>\n",
       "      <td>1619893359</td>\n",
       "      <td>79.0</td>\n",
       "      <td>-23.1203</td>\n",
       "      <td>-134.969</td>\n",
       "      <td>76.48</td>\n",
       "      <td>11.03</td>\n",
       "    </tr>\n",
       "    <tr>\n",
       "      <th>2</th>\n",
       "      <td>kavaratti</td>\n",
       "      <td>IN</td>\n",
       "      <td>11</td>\n",
       "      <td>1619893169</td>\n",
       "      <td>71.0</td>\n",
       "      <td>10.5669</td>\n",
       "      <td>72.642</td>\n",
       "      <td>85.55</td>\n",
       "      <td>6.08</td>\n",
       "    </tr>\n",
       "    <tr>\n",
       "      <th>3</th>\n",
       "      <td>pangnirtung</td>\n",
       "      <td>CA</td>\n",
       "      <td>75</td>\n",
       "      <td>1619893360</td>\n",
       "      <td>57.0</td>\n",
       "      <td>66.1451</td>\n",
       "      <td>-65.7125</td>\n",
       "      <td>44.6</td>\n",
       "      <td>9.22</td>\n",
       "    </tr>\n",
       "    <tr>\n",
       "      <th>4</th>\n",
       "      <td>guiratinga</td>\n",
       "      <td>BR</td>\n",
       "      <td>46</td>\n",
       "      <td>1619893360</td>\n",
       "      <td>46.0</td>\n",
       "      <td>-16.3494</td>\n",
       "      <td>-53.7583</td>\n",
       "      <td>86.97</td>\n",
       "      <td>9.22</td>\n",
       "    </tr>\n",
       "  </tbody>\n",
       "</table>\n",
       "</div>"
      ],
      "text/plain": [
       "          City Country Cloudiness        Date  Humidity      Lat      Lng  \\\n",
       "0     thompson      CA         90  1619893274      86.0  55.7435 -97.8558   \n",
       "1      rikitea      PF         88  1619893359      79.0 -23.1203 -134.969   \n",
       "2    kavaratti      IN         11  1619893169      71.0  10.5669   72.642   \n",
       "3  pangnirtung      CA         75  1619893360      57.0  66.1451 -65.7125   \n",
       "4   guiratinga      BR         46  1619893360      46.0 -16.3494 -53.7583   \n",
       "\n",
       "  Max Temp Windspeed  \n",
       "0     21.2      9.22  \n",
       "1    76.48     11.03  \n",
       "2    85.55      6.08  \n",
       "3     44.6      9.22  \n",
       "4    86.97      9.22  "
      ]
     },
     "execution_count": 6,
     "metadata": {},
     "output_type": "execute_result"
    }
   ],
   "source": [
    "#Clean the DataFrame to clear cities that information was not found\n",
    "weather_df['Humidity'] = weather_df['Humidity'].replace('',np.nan)\n",
    "weather_df = weather_df.dropna()\n",
    "weather_df.head()"
   ]
  },
  {
   "cell_type": "markdown",
   "metadata": {},
   "source": [
    "### Convert Raw Data to DataFrame\n",
    "* Export the city data into a .csv.\n",
    "* Display the DataFrame"
   ]
  },
  {
   "cell_type": "code",
   "execution_count": 7,
   "metadata": {},
   "outputs": [],
   "source": [
    "weather_df.to_csv(\"../output_data/CityWeatherData.csv\", index = False, header= True)"
   ]
  },
  {
   "cell_type": "code",
   "execution_count": 8,
   "metadata": {},
   "outputs": [
    {
     "data": {
      "text/html": [
       "<div>\n",
       "<style scoped>\n",
       "    .dataframe tbody tr th:only-of-type {\n",
       "        vertical-align: middle;\n",
       "    }\n",
       "\n",
       "    .dataframe tbody tr th {\n",
       "        vertical-align: top;\n",
       "    }\n",
       "\n",
       "    .dataframe thead th {\n",
       "        text-align: right;\n",
       "    }\n",
       "</style>\n",
       "<table border=\"1\" class=\"dataframe\">\n",
       "  <thead>\n",
       "    <tr style=\"text-align: right;\">\n",
       "      <th></th>\n",
       "      <th>Humidity</th>\n",
       "    </tr>\n",
       "  </thead>\n",
       "  <tbody>\n",
       "    <tr>\n",
       "      <th>count</th>\n",
       "      <td>518.000000</td>\n",
       "    </tr>\n",
       "    <tr>\n",
       "      <th>mean</th>\n",
       "      <td>66.233591</td>\n",
       "    </tr>\n",
       "    <tr>\n",
       "      <th>std</th>\n",
       "      <td>23.319028</td>\n",
       "    </tr>\n",
       "    <tr>\n",
       "      <th>min</th>\n",
       "      <td>4.000000</td>\n",
       "    </tr>\n",
       "    <tr>\n",
       "      <th>25%</th>\n",
       "      <td>50.000000</td>\n",
       "    </tr>\n",
       "    <tr>\n",
       "      <th>50%</th>\n",
       "      <td>71.500000</td>\n",
       "    </tr>\n",
       "    <tr>\n",
       "      <th>75%</th>\n",
       "      <td>84.000000</td>\n",
       "    </tr>\n",
       "    <tr>\n",
       "      <th>max</th>\n",
       "      <td>100.000000</td>\n",
       "    </tr>\n",
       "  </tbody>\n",
       "</table>\n",
       "</div>"
      ],
      "text/plain": [
       "         Humidity\n",
       "count  518.000000\n",
       "mean    66.233591\n",
       "std     23.319028\n",
       "min      4.000000\n",
       "25%     50.000000\n",
       "50%     71.500000\n",
       "75%     84.000000\n",
       "max    100.000000"
      ]
     },
     "execution_count": 8,
     "metadata": {},
     "output_type": "execute_result"
    }
   ],
   "source": [
    "weather_df.describe()"
   ]
  },
  {
   "cell_type": "markdown",
   "metadata": {},
   "source": [
    "## Inspect the data and remove the cities where the humidity > 100%.\n",
    "----\n",
    "Skip this step if there are no cities that have humidity > 100%. "
   ]
  },
  {
   "cell_type": "code",
   "execution_count": null,
   "metadata": {},
   "outputs": [],
   "source": []
  },
  {
   "cell_type": "code",
   "execution_count": 9,
   "metadata": {},
   "outputs": [],
   "source": [
    "#  Get the indices of cities that have humidity over 100%.\n"
   ]
  },
  {
   "cell_type": "code",
   "execution_count": 10,
   "metadata": {},
   "outputs": [],
   "source": [
    "# Make a new DataFrame equal to the city data to drop all humidity outliers by index.\n",
    "# Passing \"inplace=False\" will make a copy of the city_data DataFrame, which we call \"clean_city_data\".\n"
   ]
  },
  {
   "cell_type": "code",
   "execution_count": null,
   "metadata": {},
   "outputs": [],
   "source": [
    "\n"
   ]
  },
  {
   "cell_type": "markdown",
   "metadata": {},
   "source": [
    "## Plotting the Data\n",
    "* Use proper labeling of the plots using plot titles (including date of analysis) and axes labels.\n",
    "* Save the plotted figures as .pngs."
   ]
  },
  {
   "cell_type": "markdown",
   "metadata": {},
   "source": [
    "## Latitude vs. Temperature Plot"
   ]
  },
  {
   "cell_type": "code",
   "execution_count": 49,
   "metadata": {
    "scrolled": true
   },
   "outputs": [
    {
     "data": {
      "image/png": "[encoded data removed]",
      "text/plain": [
       "<Figure size 432x288 with 1 Axes>"
      ]
     },
     "metadata": {
      "needs_background": "light"
     },
     "output_type": "display_data"
    }
   ],
   "source": [
    "plt.scatter(weather_df[\"Lat\"], weather_df[\"Max Temp\"], marker='o')\n",
    "\n",
    "plt.title(\"City Latitude vs. Max Temperature\")\n",
    "plt.ylabel(\"Temperature (F)\")\n",
    "plt.xlabel(\"Latitude\")\n",
    "plt.grid(True)\n",
    "plt.savefig(\"../output_data/City Latitude vs Max Temperature.png\")\n",
    "plt.show()"
   ]
  },
  {
   "cell_type": "markdown",
   "metadata": {},
   "source": [
    "## Latitude vs. Humidity Plot"
   ]
  },
  {
   "cell_type": "code",
   "execution_count": 50,
   "metadata": {},
   "outputs": [
    {
     "data": {
      "image/png": "[encoded data removed]",
      "text/plain": [
       "<Figure size 432x288 with 1 Axes>"
      ]
     },
     "metadata": {
      "needs_background": "light"
     },
     "output_type": "display_data"
    }
   ],
   "source": [
    "plt.scatter(weather_df[\"Lat\"], weather_df[\"Humidity\"], marker='o')\n",
    "\n",
    "plt.title(\"City Latitude vs. Humidity\")\n",
    "plt.ylabel(\"Humidity (%)\")\n",
    "plt.xlabel(\"Latitude\")\n",
    "plt.grid(True)\n",
    "\n",
    "plt.savefig(\"../output_data/City Latitude vs Humidity.png\")\n",
    "\n",
    "plt.show()"
   ]
  },
  {
   "cell_type": "markdown",
   "metadata": {},
   "source": [
    "## Latitude vs. Cloudiness Plot"
   ]
  },
  {
   "cell_type": "code",
   "execution_count": 51,
   "metadata": {},
   "outputs": [
    {
     "data": {
      "image/png": "[encoded data removed]",
      "text/plain": [
       "<Figure size 432x288 with 1 Axes>"
      ]
     },
     "metadata": {
      "needs_background": "light"
     },
     "output_type": "display_data"
    }
   ],
   "source": [
    "plt.scatter(weather_df[\"Lat\"], weather_df[\"Cloudiness\"], marker='o')\n",
    "\n",
    "plt.title(\"City Latitude vs. Cloudiness\")\n",
    "plt.ylabel(\"Cloudiness\")\n",
    "plt.xlabel(\"Latitude\")\n",
    "plt.grid(True)\n",
    "plt.savefig(\"../output_data/City Latitude vs Cloudiness.png\")\n",
    "plt.show()"
   ]
  },
  {
   "cell_type": "markdown",
   "metadata": {},
   "source": [
    "## Latitude vs. Wind Speed Plot"
   ]
  },
  {
   "cell_type": "code",
   "execution_count": 52,
   "metadata": {},
   "outputs": [
    {
     "data": {
      "image/png": "[encoded data removed]",
      "text/plain": [
       "<Figure size 432x288 with 1 Axes>"
      ]
     },
     "metadata": {
      "needs_background": "light"
     },
     "output_type": "display_data"
    }
   ],
   "source": [
    "plt.scatter(weather_df[\"Lat\"], weather_df[\"Windspeed\"], marker='o')\n",
    "\n",
    "plt.title(\"City Latitude vs. Wind Speed\")\n",
    "plt.ylabel(\"Wind Speed\")\n",
    "plt.xlabel(\"Latitude\")\n",
    "plt.grid(True)\n",
    "plt.savefig(\"../output_data/City Latitude vs WindSpeed.png\")\n",
    "plt.show()"
   ]
  },
  {
   "cell_type": "markdown",
   "metadata": {},
   "source": [
    "## Linear Regression"
   ]
  },
  {
   "cell_type": "code",
   "execution_count": 53,
   "metadata": {},
   "outputs": [],
   "source": [
    "#Create hemisphere DataFrames\n",
    "north_df = weather_df[weather_df['Lat']> 0]\n",
    "south_df = weather_df[weather_df['Lat']<0]\n",
    "\n"
   ]
  },
  {
   "cell_type": "code",
   "execution_count": 54,
   "metadata": {},
   "outputs": [
    {
     "name": "stdout",
     "output_type": "stream",
     "text": [
      "There are 323 Northern Hemisphere citites and 195 Southern Hempisphere cities.\n"
     ]
    }
   ],
   "source": [
    "print(f\"There are {len(north_df['City'])} Northern Hemisphere citites and {len(south_df['City'])} Southern Hempisphere cities.\")"
   ]
  },
  {
   "cell_type": "code",
   "execution_count": 55,
   "metadata": {},
   "outputs": [],
   "source": [
    "#Create a function to do the linear regression\n",
    "def linregression(x,y,yaxis):\n",
    "    \n",
    "    (slope, intercept, rvalue, pvalue, stderr) = linregress(x,y)\n",
    "    regress_value= intercept + slope*x\n",
    "    line_eq = \"y = \" + str(round(slope,2)) + \"x + \" + str(round(intercept,2))\n",
    "\n",
    "    # Plot\n",
    "    plt.scatter(x,y)\n",
    "    plt.plot(x,regress_value,\"r-\")\n",
    "    plt.xlabel('Latitude')\n",
    "    plt.ylabel(yaxis)\n",
    "    print(line_eq)\n",
    "    print(f\"r-squared: {rvalue**2}\")\n",
    "    plt.show()"
   ]
  },
  {
   "cell_type": "markdown",
   "metadata": {},
   "source": [
    "####  Northern Hemisphere - Max Temp vs. Latitude Linear Regression"
   ]
  },
  {
   "cell_type": "code",
   "execution_count": 56,
   "metadata": {},
   "outputs": [
    {
     "name": "stdout",
     "output_type": "stream",
     "text": [
      "y = -0.97x + 97.27\n",
      "r-squared: 0.7600092516417565\n"
     ]
    },
    {
     "data": {
      "image/png": "[encoded data removed]",
      "text/plain": [
       "<Figure size 432x288 with 1 Axes>"
      ]
     },
     "metadata": {
      "needs_background": "light"
     },
     "output_type": "display_data"
    },
    {
     "data": {
      "text/plain": [
       "<Figure size 432x288 with 0 Axes>"
      ]
     },
     "metadata": {},
     "output_type": "display_data"
    }
   ],
   "source": [
    "\n",
    "x = north_df['Lat'].astype(float)\n",
    "y = north_df['Max Temp'].astype(float)\n",
    "linregression(x,y,'Max Temp')\n",
    "plt.savefig(\"../output_data/North City Latitude vs Max Temperature.png\")"
   ]
  },
  {
   "cell_type": "markdown",
   "metadata": {},
   "source": [
    "####  Southern Hemisphere - Max Temp vs. Latitude Linear Regression"
   ]
  },
  {
   "cell_type": "code",
   "execution_count": 57,
   "metadata": {},
   "outputs": [
    {
     "name": "stdout",
     "output_type": "stream",
     "text": [
      "y = 0.7x + 85.67\n",
      "r-squared: 0.5429556598333455\n"
     ]
    },
    {
     "data": {
      "image/png": "[encoded data removed]",
      "text/plain": [
       "<Figure size 432x288 with 1 Axes>"
      ]
     },
     "metadata": {
      "needs_background": "light"
     },
     "output_type": "display_data"
    },
    {
     "data": {
      "text/plain": [
       "<Figure size 432x288 with 0 Axes>"
      ]
     },
     "metadata": {},
     "output_type": "display_data"
    }
   ],
   "source": [
    "x = south_df['Lat'].astype(float)\n",
    "y = south_df['Max Temp'].astype(float)\n",
    "linregression(x,y,'Max Temp')\n",
    "plt.savefig(\"../output_data/South City Latitude vs Max Temperature.png\")"
   ]
  },
  {
   "cell_type": "code",
   "execution_count": 58,
   "metadata": {},
   "outputs": [],
   "source": [
    "#From this regression model we can see that northern cities have a better correlation with the temperature being highest\n",
    "#near the equator. The Norhtern hemisphere follows this pattern more closely than southern hemisphere"
   ]
  },
  {
   "cell_type": "markdown",
   "metadata": {},
   "source": [
    "####  Northern Hemisphere - Humidity (%) vs. Latitude Linear Regression"
   ]
  },
  {
   "cell_type": "code",
   "execution_count": 59,
   "metadata": {},
   "outputs": [
    {
     "name": "stdout",
     "output_type": "stream",
     "text": [
      "y = 0.24x + 54.14\n",
      "r-squared: 0.04081694156565076\n"
     ]
    },
    {
     "data": {
      "image/png": "[encoded data removed]",
      "text/plain": [
       "<Figure size 432x288 with 1 Axes>"
      ]
     },
     "metadata": {
      "needs_background": "light"
     },
     "output_type": "display_data"
    },
    {
     "data": {
      "text/plain": [
       "<Figure size 432x288 with 0 Axes>"
      ]
     },
     "metadata": {},
     "output_type": "display_data"
    }
   ],
   "source": [
    "x = north_df['Lat'].astype(float)\n",
    "y = north_df['Humidity'].astype(float)\n",
    "linregression(x,y,'Humidity(%)')\n",
    "plt.savefig(\"../output_data/North City Latitude vs Humidity.png\")"
   ]
  },
  {
   "cell_type": "markdown",
   "metadata": {},
   "source": [
    "####  Southern Hemisphere - Humidity (%) vs. Latitude Linear Regression"
   ]
  },
  {
   "cell_type": "code",
   "execution_count": 60,
   "metadata": {},
   "outputs": [
    {
     "name": "stdout",
     "output_type": "stream",
     "text": [
      "y = 0.19x + 74.74\n",
      "r-squared: 0.016662180009750744\n"
     ]
    },
    {
     "data": {
      "image/png": "[encoded data removed]",
      "text/plain": [
       "<Figure size 432x288 with 1 Axes>"
      ]
     },
     "metadata": {
      "needs_background": "light"
     },
     "output_type": "display_data"
    },
    {
     "data": {
      "text/plain": [
       "<Figure size 432x288 with 0 Axes>"
      ]
     },
     "metadata": {},
     "output_type": "display_data"
    }
   ],
   "source": [
    "x = south_df['Lat'].astype(float)\n",
    "y = south_df['Humidity'].astype(float)\n",
    "linregression(x,y,'Humidity(%)')\n",
    "plt.savefig(\"../output_data/South City Latitude vs Humidity.png\")"
   ]
  },
  {
   "cell_type": "code",
   "execution_count": 61,
   "metadata": {},
   "outputs": [],
   "source": [
    "#We can see that the latitude has no correlation to humidity. This could be due to other landscape features. "
   ]
  },
  {
   "cell_type": "markdown",
   "metadata": {},
   "source": [
    "####  Northern Hemisphere - Cloudiness (%) vs. Latitude Linear Regression"
   ]
  },
  {
   "cell_type": "code",
   "execution_count": 62,
   "metadata": {},
   "outputs": [
    {
     "name": "stdout",
     "output_type": "stream",
     "text": [
      "y = 0.2x + 47.59\n",
      "r-squared: 0.01158915651662522\n"
     ]
    },
    {
     "data": {
      "image/png": "[encoded data removed]",
      "text/plain": [
       "<Figure size 432x288 with 1 Axes>"
      ]
     },
     "metadata": {
      "needs_background": "light"
     },
     "output_type": "display_data"
    },
    {
     "data": {
      "text/plain": [
       "<Figure size 432x288 with 0 Axes>"
      ]
     },
     "metadata": {},
     "output_type": "display_data"
    }
   ],
   "source": [
    "x = north_df['Lat'].astype(float)\n",
    "y = north_df['Cloudiness'].astype(float)\n",
    "linregression(x,y,'Cloudiness(%)')\n",
    "plt.savefig(\"../output_data/North City Latitude vs Cloudiness.png\")"
   ]
  },
  {
   "cell_type": "markdown",
   "metadata": {},
   "source": [
    "####  Southern Hemisphere - Cloudiness (%) vs. Latitude Linear Regression"
   ]
  },
  {
   "cell_type": "code",
   "execution_count": 63,
   "metadata": {
    "scrolled": true
   },
   "outputs": [
    {
     "name": "stdout",
     "output_type": "stream",
     "text": [
      "y = 0.8x + 64.47\n",
      "r-squared: 0.08548320419312525\n"
     ]
    },
    {
     "data": {
      "image/png": "[encoded data removed]",
      "text/plain": [
       "<Figure size 432x288 with 1 Axes>"
      ]
     },
     "metadata": {
      "needs_background": "light"
     },
     "output_type": "display_data"
    },
    {
     "data": {
      "text/plain": [
       "<Figure size 432x288 with 0 Axes>"
      ]
     },
     "metadata": {},
     "output_type": "display_data"
    }
   ],
   "source": [
    "x = south_df['Lat'].astype(float)\n",
    "y = south_df['Cloudiness'].astype(float)\n",
    "linregression(x,y,'Cloudiness(%)')\n",
    "plt.savefig(\"../output_data/South City Latitude vs Cloudiness.png\")"
   ]
  },
  {
   "cell_type": "code",
   "execution_count": 64,
   "metadata": {},
   "outputs": [],
   "source": [
    "#Another set where the latitude does not correlated to the other variable in question. "
   ]
  },
  {
   "cell_type": "markdown",
   "metadata": {},
   "source": [
    "####  Northern Hemisphere - Wind Speed (mph) vs. Latitude Linear Regression"
   ]
  },
  {
   "cell_type": "code",
   "execution_count": 65,
   "metadata": {},
   "outputs": [
    {
     "name": "stdout",
     "output_type": "stream",
     "text": [
      "y = 0.02x + 8.1\n",
      "r-squared: 0.003397906669294586\n"
     ]
    },
    {
     "data": {
      "image/png": "[encoded data removed]",
      "text/plain": [
       "<Figure size 432x288 with 1 Axes>"
      ]
     },
     "metadata": {
      "needs_background": "light"
     },
     "output_type": "display_data"
    },
    {
     "data": {
      "text/plain": [
       "<Figure size 432x288 with 0 Axes>"
      ]
     },
     "metadata": {},
     "output_type": "display_data"
    }
   ],
   "source": [
    "x = north_df['Lat'].astype(float)\n",
    "y = north_df['Windspeed'].astype(float)\n",
    "linregression(x,y,'Wind Speed(MPH)')\n",
    "plt.savefig(\"../output_data/North City Latitude vs WindSpeed.png\")"
   ]
  },
  {
   "cell_type": "markdown",
   "metadata": {},
   "source": [
    "####  Southern Hemisphere - Wind Speed (mph) vs. Latitude Linear Regression"
   ]
  },
  {
   "cell_type": "code",
   "execution_count": 66,
   "metadata": {},
   "outputs": [
    {
     "name": "stdout",
     "output_type": "stream",
     "text": [
      "y = -0.03x + 6.32\n",
      "r-squared: 0.006850986350994469\n"
     ]
    },
    {
     "data": {
      "image/png": "[encoded data removed]",
      "text/plain": [
       "<Figure size 432x288 with 1 Axes>"
      ]
     },
     "metadata": {
      "needs_background": "light"
     },
     "output_type": "display_data"
    },
    {
     "data": {
      "text/plain": [
       "<Figure size 432x288 with 0 Axes>"
      ]
     },
     "metadata": {},
     "output_type": "display_data"
    }
   ],
   "source": [
    "x = south_df['Lat'].astype(float)\n",
    "y = south_df['Windspeed'].astype(float)\n",
    "linregression(x,y,'Wind Speed(MPH)')\n",
    "plt.savefig(\"../output_data/South City Latitude vs WindSpeed.png\")"
   ]
  },
  {
   "cell_type": "code",
   "execution_count": 67,
   "metadata": {},
   "outputs": [],
   "source": [
    "#After this final data set we can see that only temperature has some correlation to latitude."
   ]
  },
  {
   "cell_type": "code",
   "execution_count": null,
   "metadata": {},
   "outputs": [],
   "source": []
  },
  {
   "cell_type": "code",
   "execution_count": null,
   "metadata": {},
   "outputs": [],
   "source": []
  }
 ],
 "metadata": {
  "anaconda-cloud": {},
  "kernel_info": {
   "name": "python3"
  },
  "kernelspec": {
   "display_name": "Python 3",
   "language": "python",
   "name": "python3"
  },
  "language_info": {
   "codemirror_mode": {
    "name": "ipython",
    "version": 3
   },
   "file_extension": ".py",
   "mimetype": "text/x-python",
   "name": "python",
   "nbconvert_exporter": "python",
   "pygments_lexer": "ipython3",
   "version": "3.8.5"
  },
  "latex_envs": {
   "LaTeX_envs_menu_present": true,
   "autoclose": false,
   "autocomplete": true,
   "bibliofile": "biblio.bib",
   "cite_by": "apalike",
   "current_citInitial": 1,
   "eqLabelWithNumbers": true,
   "eqNumInitial": 1,
   "hotkeys": {
    "equation": "Ctrl-E",
    "itemize": "Ctrl-I"
   },
   "labels_anchors": false,
   "latex_user_defs": false,
   "report_style_numbering": false,
   "user_envs_cfg": false
  },
  "nteract": {
   "version": "0.12.3"
  }
 },
 "nbformat": 4,
 "nbformat_minor": 2
}
